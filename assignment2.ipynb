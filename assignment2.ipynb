{
 "cells": [
  {
   "cell_type": "markdown",
   "metadata": {},
   "source": [
    "Programming Assignment 2\n",
    "=======\n",
    "\n",
    "\n",
    "### Instructions / Notes:\n",
    "\n",
    "**_Read these carefully_**\n",
    "\n",
    "* **IMPORTANT**: In your terminal run `pip install --user --upgrade ipython-sql`. This will install the necessary sql packages for Jupyter notebook.\n",
    "* Run the cell below to load the database `assignment2.db` (make sure the actual database file, `assignment2.db`, is in the same directory as this IPython notebook is running in)\n",
    "* Some of the problems involve _changing_ this database (e.g. deleting rows)- you can always re-download `assignment2.db` or make a copy if you want to start fresh!\n",
    "* You **may** create new IPython notebook cells to use for e.g. testing, debugging, exploring, etc.- this is encouraged in fact!- **just make sure that your final answer for each question is _in its own cell_ and _clearly indicated_**\n",
    "* When you see `In [*]:` to the left of the cell you are executing, this means that the code / query is _running_.\n",
    "    * **If the cell is hanging- i.e. running for too long: To restart the SQL connection, you must restart the entire python kernel**\n",
    "    * To restart kernel using the menu bar: \"Kernel >> Restart >> Clear all outputs & restart\"), then re-execute the sql connection cell at top\n",
    "    * You will also need to restart the connection if you want to load a different version of the database file\n",
    "* Remember:\n",
    "    * `%sql [SQL]` is for _single line_ SQL queries\n",
    "    * `%%sql [SQL]` is for _multi line_ SQL queries\n",
    "* **See Piazza for submission instructions**\n",
    "* _Have fun!_"
   ]
  },
  {
   "cell_type": "code",
   "execution_count": 1,
   "metadata": {},
   "outputs": [
    {
     "data": {
      "text/plain": [
       "'Connected: @assignment2.db'"
      ]
     },
     "execution_count": 1,
     "metadata": {},
     "output_type": "execute_result"
    }
   ],
   "source": [
    "# Connect to the database.\n",
    "%load_ext sql\n",
    "%sql sqlite:///assignment2.db"
   ]
  },
  {
   "cell_type": "markdown",
   "metadata": {},
   "source": [
    "Problem 1: Matrix Manipulations\n",
    "------------------------\n",
    "\n",
    "Two random 3x3 ($N=3$) matrices have been provided in tables `A` and `B`, having the following schema:\n",
    "> * `i INT`:   Row index\n",
    "> * `j INT`:   Column index\n",
    "> * `val INT`: Cell value\n",
    "\n",
    "**Note: all of your answers below _must_ work for any _square_ matrix sizes, i.e. any value of $N$**.\n",
    "\n",
    "Note how the matrices are represented- why do we choose this format?  Run the following queries to see the matrices in a nice format:"
   ]
  },
  {
   "cell_type": "code",
   "execution_count": 9,
   "metadata": {},
   "outputs": [
    {
     "name": "stdout",
     "output_type": "stream",
     "text": [
      " * sqlite:///assignment2.db\n",
      "Done.\n"
     ]
    },
    {
     "data": {
      "text/html": [
       "<table>\n",
       "    <tr>\n",
       "        <th>A</th>\n",
       "    </tr>\n",
       "    <tr>\n",
       "        <td>7 , 5 , 8</td>\n",
       "    </tr>\n",
       "    <tr>\n",
       "        <td>10 , 7 , 7</td>\n",
       "    </tr>\n",
       "    <tr>\n",
       "        <td>2 , 0 , 5</td>\n",
       "    </tr>\n",
       "</table>"
      ],
      "text/plain": [
       "[('7 , 5 , 8',), ('10 , 7 , 7',), ('2 , 0 , 5',)]"
      ]
     },
     "execution_count": 9,
     "metadata": {},
     "output_type": "execute_result"
    }
   ],
   "source": [
    "%sql SELECT group_concat(val, \" , \") AS \"A\" FROM A GROUP BY i;"
   ]
  },
  {
   "cell_type": "code",
   "execution_count": 4,
   "metadata": {},
   "outputs": [
    {
     "name": "stdout",
     "output_type": "stream",
     "text": [
      " * sqlite:///assignment2.db\n",
      "Done.\n"
     ]
    },
    {
     "data": {
      "text/html": [
       "<table>\n",
       "    <tr>\n",
       "        <th>B</th>\n",
       "    </tr>\n",
       "    <tr>\n",
       "        <td>9 , 6 , 10</td>\n",
       "    </tr>\n",
       "    <tr>\n",
       "        <td>7 , 6 , 9</td>\n",
       "    </tr>\n",
       "    <tr>\n",
       "        <td>1 , 1 , 7</td>\n",
       "    </tr>\n",
       "</table>"
      ],
      "text/plain": [
       "[('9 , 6 , 10',), ('7 , 6 , 9',), ('1 , 1 , 7',)]"
      ]
     },
     "execution_count": 4,
     "metadata": {},
     "output_type": "execute_result"
    }
   ],
   "source": [
    "%sql SELECT group_concat(val, \" , \") AS \"B\" FROM B GROUP BY i;"
   ]
  },
  {
   "cell_type": "markdown",
   "metadata": {},
   "source": [
    "### Part (a): Elementwise multiplication [5 points]\n",
    "\n",
    "We want the _elementwise multiply_ of matrices A and B. That is,\n",
    "$(A\\cdot B)_{ij} = A_{ij}B_{ij}$ for all $i,j$.\n",
    "\n",
    "Write a _single SQL query_ that performs this operation (in the same format as $A$- output tuples should be of format `(i,j,val)` where `i` is row, `j` is column, and the output is ordered by row then column index)\n",
    "\n",
    "Write your query here:"
   ]
  },
  {
   "cell_type": "code",
   "execution_count": 259,
   "metadata": {},
   "outputs": [
    {
     "name": "stdout",
     "output_type": "stream",
     "text": [
      " * sqlite:///assignment2.db\n",
      "Done.\n"
     ]
    },
    {
     "data": {
      "text/html": [
       "<table>\n",
       "    <tr>\n",
       "        <th>i</th>\n",
       "        <th>j</th>\n",
       "        <th>val</th>\n",
       "    </tr>\n",
       "    <tr>\n",
       "        <td>0</td>\n",
       "        <td>0</td>\n",
       "        <td>63</td>\n",
       "    </tr>\n",
       "    <tr>\n",
       "        <td>0</td>\n",
       "        <td>1</td>\n",
       "        <td>30</td>\n",
       "    </tr>\n",
       "    <tr>\n",
       "        <td>0</td>\n",
       "        <td>2</td>\n",
       "        <td>80</td>\n",
       "    </tr>\n",
       "    <tr>\n",
       "        <td>1</td>\n",
       "        <td>0</td>\n",
       "        <td>70</td>\n",
       "    </tr>\n",
       "    <tr>\n",
       "        <td>1</td>\n",
       "        <td>1</td>\n",
       "        <td>42</td>\n",
       "    </tr>\n",
       "    <tr>\n",
       "        <td>1</td>\n",
       "        <td>2</td>\n",
       "        <td>63</td>\n",
       "    </tr>\n",
       "    <tr>\n",
       "        <td>2</td>\n",
       "        <td>0</td>\n",
       "        <td>2</td>\n",
       "    </tr>\n",
       "    <tr>\n",
       "        <td>2</td>\n",
       "        <td>1</td>\n",
       "        <td>0</td>\n",
       "    </tr>\n",
       "    <tr>\n",
       "        <td>2</td>\n",
       "        <td>2</td>\n",
       "        <td>35</td>\n",
       "    </tr>\n",
       "</table>"
      ],
      "text/plain": [
       "[(0, 0, 63),\n",
       " (0, 1, 30),\n",
       " (0, 2, 80),\n",
       " (1, 0, 70),\n",
       " (1, 1, 42),\n",
       " (1, 2, 63),\n",
       " (2, 0, 2),\n",
       " (2, 1, 0),\n",
       " (2, 2, 35)]"
      ]
     },
     "execution_count": 259,
     "metadata": {},
     "output_type": "execute_result"
    }
   ],
   "source": [
    "%%sql \n",
    "select A.i, A.j, A.val*B.val as val\n",
    "from A,B\n",
    "where A.i=B.i\n",
    "and A.j=B.j;"
   ]
  },
  {
   "cell_type": "code",
   "execution_count": 4,
   "metadata": {},
   "outputs": [
    {
     "name": "stdout",
     "output_type": "stream",
     "text": [
      "Done.\n"
     ]
    },
    {
     "data": {
      "text/html": [
       "<table>\n",
       "    <tr>\n",
       "        <th>i</th>\n",
       "        <th>j</th>\n",
       "        <th>val</th>\n",
       "    </tr>\n",
       "    <tr>\n",
       "        <td>0</td>\n",
       "        <td>0</td>\n",
       "        <td>63</td>\n",
       "    </tr>\n",
       "    <tr>\n",
       "        <td>0</td>\n",
       "        <td>1</td>\n",
       "        <td>30</td>\n",
       "    </tr>\n",
       "    <tr>\n",
       "        <td>0</td>\n",
       "        <td>2</td>\n",
       "        <td>80</td>\n",
       "    </tr>\n",
       "    <tr>\n",
       "        <td>1</td>\n",
       "        <td>0</td>\n",
       "        <td>70</td>\n",
       "    </tr>\n",
       "    <tr>\n",
       "        <td>1</td>\n",
       "        <td>1</td>\n",
       "        <td>42</td>\n",
       "    </tr>\n",
       "    <tr>\n",
       "        <td>1</td>\n",
       "        <td>2</td>\n",
       "        <td>63</td>\n",
       "    </tr>\n",
       "    <tr>\n",
       "        <td>2</td>\n",
       "        <td>0</td>\n",
       "        <td>2</td>\n",
       "    </tr>\n",
       "    <tr>\n",
       "        <td>2</td>\n",
       "        <td>1</td>\n",
       "        <td>0</td>\n",
       "    </tr>\n",
       "    <tr>\n",
       "        <td>2</td>\n",
       "        <td>2</td>\n",
       "        <td>35</td>\n",
       "    </tr>\n",
       "</table>"
      ],
      "text/plain": [
       "[(0, 0, 63),\n",
       " (0, 1, 30),\n",
       " (0, 2, 80),\n",
       " (1, 0, 70),\n",
       " (1, 1, 42),\n",
       " (1, 2, 63),\n",
       " (2, 0, 2),\n",
       " (2, 1, 0),\n",
       " (2, 2, 35)]"
      ]
     },
     "execution_count": 4,
     "metadata": {},
     "output_type": "execute_result"
    }
   ],
   "source": [
    "\"\"\"\n",
    "Expected output below- don't re-evaluate this cell!\n",
    "\n",
    "NOTE: A valid answer must work for ALL inputs of the given type,\n",
    "not just this example.  I.e. do not hardcode around this answer / etc!\n",
    "\"\"\""
   ]
  },
  {
   "cell_type": "markdown",
   "metadata": {},
   "source": [
    "### Part (b): Permutations [5 points]\n",
    "\n",
    "A _permutation_ is a mapping from a set of integers to itself, i.e. $\\pi:[n] \\rightarrow [n]$, where $[n]$ denotes the set $\\{0,\\ldots, n-1\\}$.\n",
    "\n",
    "We write\n",
    "$$\n",
    "    \\pi([a_1, a_2, \\ldots, a_n]) \n",
    "    = [a_{\\pi(1)},a_{\\pi(2)}, \\ldots a_{\\pi(n)} ]\n",
    "$$\n",
    "\n",
    "The provided table $c$ contains a permutation on $[3]$."
   ]
  },
  {
   "cell_type": "code",
   "execution_count": 5,
   "metadata": {},
   "outputs": [
    {
     "name": "stdout",
     "output_type": "stream",
     "text": [
      "Done.\n"
     ]
    },
    {
     "data": {
      "text/html": [
       "<table>\n",
       "    <tr>\n",
       "        <th>ind</th>\n",
       "        <th>pi</th>\n",
       "    </tr>\n",
       "    <tr>\n",
       "        <td>0</td>\n",
       "        <td>1</td>\n",
       "    </tr>\n",
       "    <tr>\n",
       "        <td>1</td>\n",
       "        <td>2</td>\n",
       "    </tr>\n",
       "    <tr>\n",
       "        <td>2</td>\n",
       "        <td>0</td>\n",
       "    </tr>\n",
       "</table>"
      ],
      "text/plain": [
       "[(0, 1), (1, 2), (2, 0)]"
      ]
     },
     "execution_count": 5,
     "metadata": {},
     "output_type": "execute_result"
    }
   ],
   "source": [
    "%sql SELECT * FROM c;"
   ]
  },
  {
   "cell_type": "markdown",
   "metadata": {},
   "source": [
    "Write a _single SQL query_ that permutes the rows of matrix $A$ according to the permutation stored in $c$.\n",
    "\n",
    "$$\n",
    "(i,j,A_{ij}) \\rightarrow (i,j,A_{\\pi(i)j})\n",
    "$$\n",
    "\n",
    "For the example provided, this means a single-step cyclic upward shift, however your code needs to work for any input $A,c$ of the right dimensions.\n",
    "\n",
    "Write your query here:"
   ]
  },
  {
   "cell_type": "code",
   "execution_count": 260,
   "metadata": {},
   "outputs": [
    {
     "name": "stdout",
     "output_type": "stream",
     "text": [
      " * sqlite:///assignment2.db\n",
      "Done.\n"
     ]
    },
    {
     "data": {
      "text/html": [
       "<table>\n",
       "    <tr>\n",
       "        <th>i</th>\n",
       "        <th>j</th>\n",
       "        <th>val</th>\n",
       "    </tr>\n",
       "    <tr>\n",
       "        <td>0</td>\n",
       "        <td>0</td>\n",
       "        <td>10</td>\n",
       "    </tr>\n",
       "    <tr>\n",
       "        <td>0</td>\n",
       "        <td>1</td>\n",
       "        <td>7</td>\n",
       "    </tr>\n",
       "    <tr>\n",
       "        <td>0</td>\n",
       "        <td>2</td>\n",
       "        <td>7</td>\n",
       "    </tr>\n",
       "    <tr>\n",
       "        <td>1</td>\n",
       "        <td>0</td>\n",
       "        <td>2</td>\n",
       "    </tr>\n",
       "    <tr>\n",
       "        <td>1</td>\n",
       "        <td>1</td>\n",
       "        <td>0</td>\n",
       "    </tr>\n",
       "    <tr>\n",
       "        <td>1</td>\n",
       "        <td>2</td>\n",
       "        <td>5</td>\n",
       "    </tr>\n",
       "    <tr>\n",
       "        <td>2</td>\n",
       "        <td>0</td>\n",
       "        <td>7</td>\n",
       "    </tr>\n",
       "    <tr>\n",
       "        <td>2</td>\n",
       "        <td>1</td>\n",
       "        <td>5</td>\n",
       "    </tr>\n",
       "    <tr>\n",
       "        <td>2</td>\n",
       "        <td>2</td>\n",
       "        <td>8</td>\n",
       "    </tr>\n",
       "</table>"
      ],
      "text/plain": [
       "[(0, 0, 10),\n",
       " (0, 1, 7),\n",
       " (0, 2, 7),\n",
       " (1, 0, 2),\n",
       " (1, 1, 0),\n",
       " (1, 2, 5),\n",
       " (2, 0, 7),\n",
       " (2, 1, 5),\n",
       " (2, 2, 8)]"
      ]
     },
     "execution_count": 260,
     "metadata": {},
     "output_type": "execute_result"
    }
   ],
   "source": [
    "%%sql \n",
    "select distinct A1.i, A2.j, A2.val as val\n",
    "from A as A1, A as A2, c\n",
    "where A1.i = c.ind\n",
    "and A2.i = c.pi;"
   ]
  },
  {
   "cell_type": "markdown",
   "metadata": {},
   "source": [
    "\"\"\"\n",
    "Expected output below- don't re-evaluate this cell!\n",
    "\n",
    "NOTE: A valid answer must work for ALL inputs of the given type,\n",
    "not just this example.  I.e. do not hardcode around this answer / etc!\n",
    "\"\"\""
   ]
  },
  {
   "cell_type": "markdown",
   "metadata": {},
   "source": [
    "### Part (c): Composability of permutations [8 points]\n",
    "\n",
    "A known property of permutations, is that they are closed under composition. This implies that applying two permutations in succession is equivalent to applying a different, single permutation.\n",
    "$$\n",
    "    \\pi_2(\\pi_1([a_1, a_2, \\ldots, a_n]))\n",
    "    = [a_{\\pi(1)},a_{\\pi(2)}, \\ldots a_{\\pi(n)} ]\n",
    "$$\n",
    "where $\\pi(i) = \\pi_2(\\pi_1(i))$.\n",
    "\n",
    "Write a _single SQL query_ that applies the permuation in table $c$ twice on the rows of matrix $A$.\n",
    "\n",
    "$$\n",
    "(i,j,A_{ij}) \\rightarrow (i,j,A_{\\pi(\\pi(i))j})\n",
    "$$\n",
    "\n",
    "For the example provided, this means a two-step cyclic upward shift, however your code needs to work for any input $A,c$ of the right dimensions.\n",
    "\n",
    "Write your query here:"
   ]
  },
  {
   "cell_type": "code",
   "execution_count": 261,
   "metadata": {},
   "outputs": [
    {
     "name": "stdout",
     "output_type": "stream",
     "text": [
      " * sqlite:///assignment2.db\n",
      "Done.\n"
     ]
    },
    {
     "data": {
      "text/html": [
       "<table>\n",
       "    <tr>\n",
       "        <th>i</th>\n",
       "        <th>j</th>\n",
       "        <th>val</th>\n",
       "    </tr>\n",
       "    <tr>\n",
       "        <td>0</td>\n",
       "        <td>0</td>\n",
       "        <td>2</td>\n",
       "    </tr>\n",
       "    <tr>\n",
       "        <td>0</td>\n",
       "        <td>1</td>\n",
       "        <td>0</td>\n",
       "    </tr>\n",
       "    <tr>\n",
       "        <td>0</td>\n",
       "        <td>2</td>\n",
       "        <td>5</td>\n",
       "    </tr>\n",
       "    <tr>\n",
       "        <td>1</td>\n",
       "        <td>0</td>\n",
       "        <td>7</td>\n",
       "    </tr>\n",
       "    <tr>\n",
       "        <td>1</td>\n",
       "        <td>1</td>\n",
       "        <td>5</td>\n",
       "    </tr>\n",
       "    <tr>\n",
       "        <td>1</td>\n",
       "        <td>2</td>\n",
       "        <td>8</td>\n",
       "    </tr>\n",
       "    <tr>\n",
       "        <td>2</td>\n",
       "        <td>0</td>\n",
       "        <td>10</td>\n",
       "    </tr>\n",
       "    <tr>\n",
       "        <td>2</td>\n",
       "        <td>1</td>\n",
       "        <td>7</td>\n",
       "    </tr>\n",
       "    <tr>\n",
       "        <td>2</td>\n",
       "        <td>2</td>\n",
       "        <td>7</td>\n",
       "    </tr>\n",
       "</table>"
      ],
      "text/plain": [
       "[(0, 0, 2),\n",
       " (0, 1, 0),\n",
       " (0, 2, 5),\n",
       " (1, 0, 7),\n",
       " (1, 1, 5),\n",
       " (1, 2, 8),\n",
       " (2, 0, 10),\n",
       " (2, 1, 7),\n",
       " (2, 2, 7)]"
      ]
     },
     "execution_count": 261,
     "metadata": {},
     "output_type": "execute_result"
    }
   ],
   "source": [
    "%%sql  select distinct A1.i, A2.j, A2.val as val\n",
    "from A as A1, A as A2, c as c1, c as c2\n",
    "where c2.ind = c1.pi\n",
    "and A1.i = c1.ind\n",
    "and A2.i = c2.pi;"
   ]
  },
  {
   "cell_type": "code",
   "execution_count": 8,
   "metadata": {},
   "outputs": [
    {
     "name": "stdout",
     "output_type": "stream",
     "text": [
      "Done.\n"
     ]
    },
    {
     "data": {
      "text/html": [
       "<table>\n",
       "    <tr>\n",
       "        <th>i</th>\n",
       "        <th>j</th>\n",
       "        <th>val</th>\n",
       "    </tr>\n",
       "    <tr>\n",
       "        <td>0</td>\n",
       "        <td>0</td>\n",
       "        <td>2</td>\n",
       "    </tr>\n",
       "    <tr>\n",
       "        <td>0</td>\n",
       "        <td>1</td>\n",
       "        <td>0</td>\n",
       "    </tr>\n",
       "    <tr>\n",
       "        <td>0</td>\n",
       "        <td>2</td>\n",
       "        <td>5</td>\n",
       "    </tr>\n",
       "    <tr>\n",
       "        <td>1</td>\n",
       "        <td>0</td>\n",
       "        <td>7</td>\n",
       "    </tr>\n",
       "    <tr>\n",
       "        <td>1</td>\n",
       "        <td>1</td>\n",
       "        <td>5</td>\n",
       "    </tr>\n",
       "    <tr>\n",
       "        <td>1</td>\n",
       "        <td>2</td>\n",
       "        <td>8</td>\n",
       "    </tr>\n",
       "    <tr>\n",
       "        <td>2</td>\n",
       "        <td>0</td>\n",
       "        <td>10</td>\n",
       "    </tr>\n",
       "    <tr>\n",
       "        <td>2</td>\n",
       "        <td>1</td>\n",
       "        <td>7</td>\n",
       "    </tr>\n",
       "    <tr>\n",
       "        <td>2</td>\n",
       "        <td>2</td>\n",
       "        <td>7</td>\n",
       "    </tr>\n",
       "</table>"
      ],
      "text/plain": [
       "[(0, 0, 2),\n",
       " (0, 1, 0),\n",
       " (0, 2, 5),\n",
       " (1, 0, 7),\n",
       " (1, 1, 5),\n",
       " (1, 2, 8),\n",
       " (2, 0, 10),\n",
       " (2, 1, 7),\n",
       " (2, 2, 7)]"
      ]
     },
     "execution_count": 8,
     "metadata": {},
     "output_type": "execute_result"
    }
   ],
   "source": [
    "\"\"\"\n",
    "Expected output below- don't re-evaluate this cell!\n",
    "\n",
    "NOTE: A valid answer must work for ALL inputs of the given type,\n",
    "not just this example.  I.e. do not hardcode around this answer / etc!\n",
    "\"\"\""
   ]
  },
  {
   "cell_type": "markdown",
   "metadata": {},
   "source": [
    "### Part (d): Local maximum [12 points]\n",
    "\n",
    "Consider the _local maximum_ matrix function, \n",
    "$MAX:\\mathbb{R}^{n,n} \\rightarrow \\mathbb{R}^{n,n}$:\n",
    "\n",
    "$$\n",
    "    MAX(A)_{ij} = \\max \\{ A_{ij} \\textrm{ and cells up, down, left, right }\\}\n",
    "$$\n",
    "\n",
    "that is, if\n",
    "\n",
    "$$A=\\begin{bmatrix}a & b & c\\\\ d & e & f\\\\ g & h & i\\end{bmatrix}$$\n",
    "\n",
    "then\n",
    "\n",
    "$$\n",
    "    MAX(A)_{00} = \\max \\{ a,b,d \\},\n",
    "$$\n",
    "\n",
    "$$\n",
    "    MAX(A)_{01} = \\max \\{ a,d,g,e \\},\n",
    "$$\n",
    "\n",
    "and\n",
    "\n",
    "$$\n",
    "    MAX(A)_{11} = \\max \\{ d,b,e,h,f \\}.\n",
    "$$\n",
    "\n",
    "Write a _single SQL query_ that computes the local maximum of matrix $A$.\n",
    "\n",
    "Write your query here:"
   ]
  },
  {
   "cell_type": "code",
   "execution_count": 262,
   "metadata": {},
   "outputs": [
    {
     "name": "stdout",
     "output_type": "stream",
     "text": [
      " * sqlite:///assignment2.db\n",
      "Done.\n"
     ]
    },
    {
     "data": {
      "text/html": [
       "<table>\n",
       "    <tr>\n",
       "        <th>i</th>\n",
       "        <th>j</th>\n",
       "        <th>max(val)</th>\n",
       "    </tr>\n",
       "    <tr>\n",
       "        <td>0</td>\n",
       "        <td>0</td>\n",
       "        <td>10</td>\n",
       "    </tr>\n",
       "    <tr>\n",
       "        <td>0</td>\n",
       "        <td>1</td>\n",
       "        <td>8</td>\n",
       "    </tr>\n",
       "    <tr>\n",
       "        <td>0</td>\n",
       "        <td>2</td>\n",
       "        <td>8</td>\n",
       "    </tr>\n",
       "    <tr>\n",
       "        <td>1</td>\n",
       "        <td>0</td>\n",
       "        <td>10</td>\n",
       "    </tr>\n",
       "    <tr>\n",
       "        <td>1</td>\n",
       "        <td>1</td>\n",
       "        <td>10</td>\n",
       "    </tr>\n",
       "    <tr>\n",
       "        <td>1</td>\n",
       "        <td>2</td>\n",
       "        <td>8</td>\n",
       "    </tr>\n",
       "    <tr>\n",
       "        <td>2</td>\n",
       "        <td>0</td>\n",
       "        <td>10</td>\n",
       "    </tr>\n",
       "    <tr>\n",
       "        <td>2</td>\n",
       "        <td>1</td>\n",
       "        <td>7</td>\n",
       "    </tr>\n",
       "    <tr>\n",
       "        <td>2</td>\n",
       "        <td>2</td>\n",
       "        <td>7</td>\n",
       "    </tr>\n",
       "</table>"
      ],
      "text/plain": [
       "[(0, 0, 10),\n",
       " (0, 1, 8),\n",
       " (0, 2, 8),\n",
       " (1, 0, 10),\n",
       " (1, 1, 10),\n",
       " (1, 2, 8),\n",
       " (2, 0, 10),\n",
       " (2, 1, 7),\n",
       " (2, 2, 7)]"
      ]
     },
     "execution_count": 262,
     "metadata": {},
     "output_type": "execute_result"
    }
   ],
   "source": [
    "%%sql\n",
    "select i,j,max(val)\n",
    "    from(\n",
    "    select distinct A1.i, A1.j, A2.val\n",
    "    from A as A1, A as A2\n",
    "    where abs(A1.i - A2.i) <= 1\n",
    "    and A1.j = A2.j\n",
    "    union\n",
    "    select distinct A1.i, A1.j, A2.val\n",
    "    from A as A1, A as A2\n",
    "    where abs(A1.j - A2.j) <= 1\n",
    "    and A1.i = A2.i\n",
    "    )\n",
    "    group by i,j;"
   ]
  },
  {
   "cell_type": "code",
   "execution_count": 9,
   "metadata": {},
   "outputs": [
    {
     "name": "stdout",
     "output_type": "stream",
     "text": [
      "Done.\n"
     ]
    },
    {
     "data": {
      "text/html": [
       "<table>\n",
       "    <tr>\n",
       "        <th>i</th>\n",
       "        <th>j</th>\n",
       "        <th>val</th>\n",
       "    </tr>\n",
       "    <tr>\n",
       "        <td>0</td>\n",
       "        <td>0</td>\n",
       "        <td>10</td>\n",
       "    </tr>\n",
       "    <tr>\n",
       "        <td>0</td>\n",
       "        <td>1</td>\n",
       "        <td>8</td>\n",
       "    </tr>\n",
       "    <tr>\n",
       "        <td>0</td>\n",
       "        <td>2</td>\n",
       "        <td>8</td>\n",
       "    </tr>\n",
       "    <tr>\n",
       "        <td>1</td>\n",
       "        <td>0</td>\n",
       "        <td>10</td>\n",
       "    </tr>\n",
       "    <tr>\n",
       "        <td>1</td>\n",
       "        <td>1</td>\n",
       "        <td>10</td>\n",
       "    </tr>\n",
       "    <tr>\n",
       "        <td>1</td>\n",
       "        <td>2</td>\n",
       "        <td>8</td>\n",
       "    </tr>\n",
       "    <tr>\n",
       "        <td>2</td>\n",
       "        <td>0</td>\n",
       "        <td>10</td>\n",
       "    </tr>\n",
       "    <tr>\n",
       "        <td>2</td>\n",
       "        <td>1</td>\n",
       "        <td>7</td>\n",
       "    </tr>\n",
       "    <tr>\n",
       "        <td>2</td>\n",
       "        <td>2</td>\n",
       "        <td>7</td>\n",
       "    </tr>\n",
       "</table>"
      ],
      "text/plain": [
       "[(0, 0, 10),\n",
       " (0, 1, 8),\n",
       " (0, 2, 8),\n",
       " (1, 0, 10),\n",
       " (1, 1, 10),\n",
       " (1, 2, 8),\n",
       " (2, 0, 10),\n",
       " (2, 1, 7),\n",
       " (2, 2, 7)]"
      ]
     },
     "execution_count": 9,
     "metadata": {},
     "output_type": "execute_result"
    }
   ],
   "source": [
    "\"\"\"\n",
    "Expected output below- don't re-evaluate this cell!\n",
    "\n",
    "NOTE: A valid answer must work for ALL inputs of the given type,\n",
    "not just this example.  I.e. do not hardcode around this answer / etc!\n",
    "\"\"\""
   ]
  },
  {
   "cell_type": "markdown",
   "metadata": {},
   "source": [
    "Problem 2: U.S. Sustainable Energy Sources\n",
    "----------------------------------------------\n",
    "\n",
    "We've prepared and loaded a [public dataset](https://catalog.data.gov/dataset/energy-generation-by-state-and-technology-2009-69f4f) from the US DOE (Department of Energy) of sustainable energy production in MWh (megawatt hours, i.e., 1000 [kilowatt hours](https://en.wikipedia.org/wiki/Kilowatt_hour)). This data is from 2009, the latest year available.  The data includes each state, the region of the United States it is in, and its production in MWh of sustainable energy by source (solar, wind, hydroelectric, and nuclear). The table `energy` has the following schema:\n",
    "```\n",
    "TABLE energy (\n",
    "    state varchar(30),\n",
    "    region varchar(30),\n",
    "    solar float,\n",
    "    wind float,\n",
    "    hydro float,\n",
    "    nuclear float)\n",
    "```"
   ]
  },
  {
   "cell_type": "code",
   "execution_count": 101,
   "metadata": {},
   "outputs": [
    {
     "name": "stdout",
     "output_type": "stream",
     "text": [
      " * sqlite:///assignment2.db\n",
      "Done.\n"
     ]
    },
    {
     "data": {
      "text/html": [
       "<table>\n",
       "    <tr>\n",
       "        <th>state</th>\n",
       "        <th>region</th>\n",
       "        <th>solar</th>\n",
       "        <th>wind</th>\n",
       "        <th>hydro</th>\n",
       "        <th>nuclear</th>\n",
       "    </tr>\n",
       "    <tr>\n",
       "        <td>Alabama</td>\n",
       "        <td>Southeast</td>\n",
       "        <td>0.0</td>\n",
       "        <td>0.0</td>\n",
       "        <td>11753493.37</td>\n",
       "        <td>39716204.0</td>\n",
       "    </tr>\n",
       "    <tr>\n",
       "        <td>Alaska</td>\n",
       "        <td>Alaska</td>\n",
       "        <td>0.0</td>\n",
       "        <td>3062.442</td>\n",
       "        <td>1204550.392</td>\n",
       "        <td>0.0</td>\n",
       "    </tr>\n",
       "    <tr>\n",
       "        <td>Arizona</td>\n",
       "        <td>West</td>\n",
       "        <td>13759.445</td>\n",
       "        <td>9555.0</td>\n",
       "        <td>6348462.992</td>\n",
       "        <td>30661851.0</td>\n",
       "    </tr>\n",
       "    <tr>\n",
       "        <td>Arkansas</td>\n",
       "        <td>Southeast</td>\n",
       "        <td>0.0</td>\n",
       "        <td>0.0</td>\n",
       "        <td>4195168.354</td>\n",
       "        <td>15169966.0</td>\n",
       "    </tr>\n",
       "    <tr>\n",
       "        <td>California</td>\n",
       "        <td>West</td>\n",
       "        <td>611763.387</td>\n",
       "        <td>5764637.309</td>\n",
       "        <td>27707085.47</td>\n",
       "        <td>31734676.0</td>\n",
       "    </tr>\n",
       "    <tr>\n",
       "        <td>Colorado</td>\n",
       "        <td>West</td>\n",
       "        <td>16530.477</td>\n",
       "        <td>2942132.635</td>\n",
       "        <td>2058215.46</td>\n",
       "        <td>0.0</td>\n",
       "    </tr>\n",
       "    <tr>\n",
       "        <td>Connecticut</td>\n",
       "        <td>New England</td>\n",
       "        <td>0.0</td>\n",
       "        <td>0.0</td>\n",
       "        <td>623122.58</td>\n",
       "        <td>16657387.0</td>\n",
       "    </tr>\n",
       "    <tr>\n",
       "        <td>Delaware</td>\n",
       "        <td>Mid Atlantic</td>\n",
       "        <td>0.0</td>\n",
       "        <td>0.0</td>\n",
       "        <td>0.0</td>\n",
       "        <td>0.0</td>\n",
       "    </tr>\n",
       "    <tr>\n",
       "        <td>Florida</td>\n",
       "        <td>Southeast</td>\n",
       "        <td>10225.0</td>\n",
       "        <td>0.0</td>\n",
       "        <td>244525.518</td>\n",
       "        <td>29336059.0</td>\n",
       "    </tr>\n",
       "    <tr>\n",
       "        <td>Georgia</td>\n",
       "        <td>Southeast</td>\n",
       "        <td>0.0</td>\n",
       "        <td>0.0</td>\n",
       "        <td>3055512.26</td>\n",
       "        <td>31682579.0</td>\n",
       "    </tr>\n",
       "    <tr>\n",
       "        <td>Hawaii</td>\n",
       "        <td>Hawaii</td>\n",
       "        <td>24.619</td>\n",
       "        <td>213224.163</td>\n",
       "        <td>92854.714</td>\n",
       "        <td>0.0</td>\n",
       "    </tr>\n",
       "    <tr>\n",
       "        <td>Idaho</td>\n",
       "        <td>West</td>\n",
       "        <td>0.0</td>\n",
       "        <td>227027.926</td>\n",
       "        <td>9506509.948</td>\n",
       "        <td>0.0</td>\n",
       "    </tr>\n",
       "    <tr>\n",
       "        <td>Illinois</td>\n",
       "        <td>Midwest</td>\n",
       "        <td>0.0</td>\n",
       "        <td>2761152.218</td>\n",
       "        <td>161279.509</td>\n",
       "        <td>94050482.0</td>\n",
       "    </tr>\n",
       "    <tr>\n",
       "        <td>Indiana</td>\n",
       "        <td>Midwest</td>\n",
       "        <td>0.0</td>\n",
       "        <td>1403191.55</td>\n",
       "        <td>520260.817</td>\n",
       "        <td>0.0</td>\n",
       "    </tr>\n",
       "    <tr>\n",
       "        <td>Iowa</td>\n",
       "        <td>Midwest</td>\n",
       "        <td>0.0</td>\n",
       "        <td>7331390.872</td>\n",
       "        <td>737337.446</td>\n",
       "        <td>4678931.0</td>\n",
       "    </tr>\n",
       "    <tr>\n",
       "        <td>Kansas</td>\n",
       "        <td>Heartland</td>\n",
       "        <td>0.0</td>\n",
       "        <td>2385106.5</td>\n",
       "        <td>12366.252</td>\n",
       "        <td>8768548.0</td>\n",
       "    </tr>\n",
       "    <tr>\n",
       "        <td>Kentucky</td>\n",
       "        <td>Southeast</td>\n",
       "        <td>0.0</td>\n",
       "        <td>0.0</td>\n",
       "        <td>3353204.862</td>\n",
       "        <td>0.0</td>\n",
       "    </tr>\n",
       "    <tr>\n",
       "        <td>Louisiana</td>\n",
       "        <td>Southeast</td>\n",
       "        <td>0.0</td>\n",
       "        <td>0.0</td>\n",
       "        <td>1236351.0</td>\n",
       "        <td>16782077.0</td>\n",
       "    </tr>\n",
       "    <tr>\n",
       "        <td>Maine</td>\n",
       "        <td>New England</td>\n",
       "        <td>0.0</td>\n",
       "        <td>260121.0</td>\n",
       "        <td>4588720.802</td>\n",
       "        <td>0.0</td>\n",
       "    </tr>\n",
       "    <tr>\n",
       "        <td>Maryland</td>\n",
       "        <td>Mid Atlantic</td>\n",
       "        <td>0.0</td>\n",
       "        <td>0.0</td>\n",
       "        <td>1948147.629</td>\n",
       "        <td>14550119.0</td>\n",
       "    </tr>\n",
       "    <tr>\n",
       "        <td>Massachusetts</td>\n",
       "        <td>New England</td>\n",
       "        <td>67.335</td>\n",
       "        <td>3797.825</td>\n",
       "        <td>1276194.152</td>\n",
       "        <td>5396021.0</td>\n",
       "    </tr>\n",
       "    <tr>\n",
       "        <td>Michigan</td>\n",
       "        <td>Midwest</td>\n",
       "        <td>0.0</td>\n",
       "        <td>289188.217</td>\n",
       "        <td>1320648.33</td>\n",
       "        <td>21851009.0</td>\n",
       "    </tr>\n",
       "    <tr>\n",
       "        <td>Minnesota</td>\n",
       "        <td>Midwest</td>\n",
       "        <td>0.0</td>\n",
       "        <td>4956986.761</td>\n",
       "        <td>695632.712</td>\n",
       "        <td>12393425.0</td>\n",
       "    </tr>\n",
       "    <tr>\n",
       "        <td>Mississippi</td>\n",
       "        <td>Southeast</td>\n",
       "        <td>0.0</td>\n",
       "        <td>0.0</td>\n",
       "        <td>0.0</td>\n",
       "        <td>10998515.0</td>\n",
       "    </tr>\n",
       "    <tr>\n",
       "        <td>Missouri</td>\n",
       "        <td>Southeast</td>\n",
       "        <td>0.0</td>\n",
       "        <td>498515.151</td>\n",
       "        <td>1914727.544</td>\n",
       "        <td>10247116.0</td>\n",
       "    </tr>\n",
       "    <tr>\n",
       "        <td>Montana</td>\n",
       "        <td>West</td>\n",
       "        <td>0.0</td>\n",
       "        <td>810814.986</td>\n",
       "        <td>9141898.778</td>\n",
       "        <td>0.0</td>\n",
       "    </tr>\n",
       "    <tr>\n",
       "        <td>Nebraska</td>\n",
       "        <td>Midwest</td>\n",
       "        <td>0.0</td>\n",
       "        <td>288680.789</td>\n",
       "        <td>401434.221</td>\n",
       "        <td>9435142.0</td>\n",
       "    </tr>\n",
       "    <tr>\n",
       "        <td>Nevada</td>\n",
       "        <td>West</td>\n",
       "        <td>150858.353</td>\n",
       "        <td>0.0</td>\n",
       "        <td>2446364.86</td>\n",
       "        <td>0.0</td>\n",
       "    </tr>\n",
       "    <tr>\n",
       "        <td>New Hampshire</td>\n",
       "        <td>New England</td>\n",
       "        <td>0.0</td>\n",
       "        <td>28465.641</td>\n",
       "        <td>1580927.82</td>\n",
       "        <td>8816673.0</td>\n",
       "    </tr>\n",
       "    <tr>\n",
       "        <td>New Jersey</td>\n",
       "        <td>Mid Atlantic</td>\n",
       "        <td>2437.768</td>\n",
       "        <td>19149.957</td>\n",
       "        <td>37117.462</td>\n",
       "        <td>34327954.0</td>\n",
       "    </tr>\n",
       "    <tr>\n",
       "        <td>New Mexico</td>\n",
       "        <td>West</td>\n",
       "        <td>0.0</td>\n",
       "        <td>1543715.0</td>\n",
       "        <td>300872.879</td>\n",
       "        <td>0.0</td>\n",
       "    </tr>\n",
       "    <tr>\n",
       "        <td>New York</td>\n",
       "        <td>Mid Atlantic</td>\n",
       "        <td>0.0</td>\n",
       "        <td>2258904.412</td>\n",
       "        <td>28317958.1</td>\n",
       "        <td>43484614.0</td>\n",
       "    </tr>\n",
       "    <tr>\n",
       "        <td>North Carolina</td>\n",
       "        <td>Southeast</td>\n",
       "        <td>2321.627</td>\n",
       "        <td>0.0</td>\n",
       "        <td>4921505.283</td>\n",
       "        <td>40847711.0</td>\n",
       "    </tr>\n",
       "    <tr>\n",
       "        <td>North Dakota</td>\n",
       "        <td>Midwest</td>\n",
       "        <td>0.0</td>\n",
       "        <td>2756288.99</td>\n",
       "        <td>1475251.0</td>\n",
       "        <td>0.0</td>\n",
       "    </tr>\n",
       "    <tr>\n",
       "        <td>Ohio</td>\n",
       "        <td>Mid Atlantic</td>\n",
       "        <td>0.0</td>\n",
       "        <td>15473.601</td>\n",
       "        <td>498108.58</td>\n",
       "        <td>14937336.0</td>\n",
       "    </tr>\n",
       "    <tr>\n",
       "        <td>Oklahoma</td>\n",
       "        <td>Heartland</td>\n",
       "        <td>0.0</td>\n",
       "        <td>2271589.857</td>\n",
       "        <td>3762026.2</td>\n",
       "        <td>0.0</td>\n",
       "    </tr>\n",
       "    <tr>\n",
       "        <td>Oregon</td>\n",
       "        <td>West</td>\n",
       "        <td>0.0</td>\n",
       "        <td>3372283.593</td>\n",
       "        <td>32717791.48</td>\n",
       "        <td>0.0</td>\n",
       "    </tr>\n",
       "    <tr>\n",
       "        <td>Pennsylvania</td>\n",
       "        <td>Mid Atlantic</td>\n",
       "        <td>0.0</td>\n",
       "        <td>921136.644</td>\n",
       "        <td>2820836.024</td>\n",
       "        <td>76727686.0</td>\n",
       "    </tr>\n",
       "    <tr>\n",
       "        <td>Rhode Island</td>\n",
       "        <td>New England</td>\n",
       "        <td>0.0</td>\n",
       "        <td>0.0</td>\n",
       "        <td>6134.866</td>\n",
       "        <td>0.0</td>\n",
       "    </tr>\n",
       "    <tr>\n",
       "        <td>South Carolina</td>\n",
       "        <td>Southeast</td>\n",
       "        <td>0.0</td>\n",
       "        <td>0.0</td>\n",
       "        <td>2102246.633</td>\n",
       "        <td>52149734.0</td>\n",
       "    </tr>\n",
       "    <tr>\n",
       "        <td>South Dakota</td>\n",
       "        <td>Midwest</td>\n",
       "        <td>0.0</td>\n",
       "        <td>392307.775</td>\n",
       "        <td>4319205.046</td>\n",
       "        <td>0.0</td>\n",
       "    </tr>\n",
       "    <tr>\n",
       "        <td>Tennessee</td>\n",
       "        <td>Southeast</td>\n",
       "        <td>0.0</td>\n",
       "        <td>51747.0</td>\n",
       "        <td>9482290.03</td>\n",
       "        <td>26962001.0</td>\n",
       "    </tr>\n",
       "    <tr>\n",
       "        <td>Texas</td>\n",
       "        <td>Southeast</td>\n",
       "        <td>0.0</td>\n",
       "        <td>19367238.86</td>\n",
       "        <td>1501345.366</td>\n",
       "        <td>41497617.0</td>\n",
       "    </tr>\n",
       "    <tr>\n",
       "        <td>Utah</td>\n",
       "        <td>West</td>\n",
       "        <td>0.0</td>\n",
       "        <td>64496.987</td>\n",
       "        <td>696991.166</td>\n",
       "        <td>0.0</td>\n",
       "    </tr>\n",
       "    <tr>\n",
       "        <td>Vermont</td>\n",
       "        <td>New England</td>\n",
       "        <td>0.0</td>\n",
       "        <td>11589.0</td>\n",
       "        <td>1663592.668</td>\n",
       "        <td>5360608.0</td>\n",
       "    </tr>\n",
       "    <tr>\n",
       "        <td>Virginia</td>\n",
       "        <td>Mid Atlantic</td>\n",
       "        <td>0.0</td>\n",
       "        <td>0.0</td>\n",
       "        <td>1414565.2</td>\n",
       "        <td>28212252.0</td>\n",
       "    </tr>\n",
       "    <tr>\n",
       "        <td>Washington</td>\n",
       "        <td>West</td>\n",
       "        <td>0.0</td>\n",
       "        <td>3538935.954</td>\n",
       "        <td>73932815.1</td>\n",
       "        <td>6634014.0</td>\n",
       "    </tr>\n",
       "    <tr>\n",
       "        <td>West Virginia</td>\n",
       "        <td>Mid Atlantic</td>\n",
       "        <td>0.0</td>\n",
       "        <td>742439.0</td>\n",
       "        <td>1576275.162</td>\n",
       "        <td>0.0</td>\n",
       "    </tr>\n",
       "    <tr>\n",
       "        <td>Wisconsin</td>\n",
       "        <td>Midwest</td>\n",
       "        <td>0.0</td>\n",
       "        <td>1059126.19</td>\n",
       "        <td>1605406.698</td>\n",
       "        <td>12683151.0</td>\n",
       "    </tr>\n",
       "    <tr>\n",
       "        <td>Wyoming</td>\n",
       "        <td>West</td>\n",
       "        <td>0.0</td>\n",
       "        <td>2213819.552</td>\n",
       "        <td>853608.538</td>\n",
       "        <td>0.0</td>\n",
       "    </tr>\n",
       "</table>"
      ],
      "text/plain": [
       "[('Alabama', 'Southeast', 0.0, 0.0, 11753493.37, 39716204.0),\n",
       " ('Alaska', 'Alaska', 0.0, 3062.442, 1204550.392, 0.0),\n",
       " ('Arizona', 'West', 13759.445, 9555.0, 6348462.992, 30661851.0),\n",
       " ('Arkansas', 'Southeast', 0.0, 0.0, 4195168.354, 15169966.0),\n",
       " ('California', 'West', 611763.387, 5764637.309, 27707085.47, 31734676.0),\n",
       " ('Colorado', 'West', 16530.477, 2942132.635, 2058215.46, 0.0),\n",
       " ('Connecticut', 'New England', 0.0, 0.0, 623122.58, 16657387.0),\n",
       " ('Delaware', 'Mid Atlantic', 0.0, 0.0, 0.0, 0.0),\n",
       " ('Florida', 'Southeast', 10225.0, 0.0, 244525.518, 29336059.0),\n",
       " ('Georgia', 'Southeast', 0.0, 0.0, 3055512.26, 31682579.0),\n",
       " ('Hawaii', 'Hawaii', 24.619, 213224.163, 92854.714, 0.0),\n",
       " ('Idaho', 'West', 0.0, 227027.926, 9506509.948, 0.0),\n",
       " ('Illinois', 'Midwest', 0.0, 2761152.218, 161279.509, 94050482.0),\n",
       " ('Indiana', 'Midwest', 0.0, 1403191.55, 520260.817, 0.0),\n",
       " ('Iowa', 'Midwest', 0.0, 7331390.872, 737337.446, 4678931.0),\n",
       " ('Kansas', 'Heartland', 0.0, 2385106.5, 12366.252, 8768548.0),\n",
       " ('Kentucky', 'Southeast', 0.0, 0.0, 3353204.862, 0.0),\n",
       " ('Louisiana', 'Southeast', 0.0, 0.0, 1236351.0, 16782077.0),\n",
       " ('Maine', 'New England', 0.0, 260121.0, 4588720.802, 0.0),\n",
       " ('Maryland', 'Mid Atlantic', 0.0, 0.0, 1948147.629, 14550119.0),\n",
       " ('Massachusetts', 'New England', 67.335, 3797.825, 1276194.152, 5396021.0),\n",
       " ('Michigan', 'Midwest', 0.0, 289188.217, 1320648.33, 21851009.0),\n",
       " ('Minnesota', 'Midwest', 0.0, 4956986.761, 695632.712, 12393425.0),\n",
       " ('Mississippi', 'Southeast', 0.0, 0.0, 0.0, 10998515.0),\n",
       " ('Missouri', 'Southeast', 0.0, 498515.151, 1914727.544, 10247116.0),\n",
       " ('Montana', 'West', 0.0, 810814.986, 9141898.778, 0.0),\n",
       " ('Nebraska', 'Midwest', 0.0, 288680.789, 401434.221, 9435142.0),\n",
       " ('Nevada', 'West', 150858.353, 0.0, 2446364.86, 0.0),\n",
       " ('New Hampshire', 'New England', 0.0, 28465.641, 1580927.82, 8816673.0),\n",
       " ('New Jersey', 'Mid Atlantic', 2437.768, 19149.957, 37117.462, 34327954.0),\n",
       " ('New Mexico', 'West', 0.0, 1543715.0, 300872.879, 0.0),\n",
       " ('New York', 'Mid Atlantic', 0.0, 2258904.412, 28317958.1, 43484614.0),\n",
       " ('North Carolina', 'Southeast', 2321.627, 0.0, 4921505.283, 40847711.0),\n",
       " ('North Dakota', 'Midwest', 0.0, 2756288.99, 1475251.0, 0.0),\n",
       " ('Ohio', 'Mid Atlantic', 0.0, 15473.601, 498108.58, 14937336.0),\n",
       " ('Oklahoma', 'Heartland', 0.0, 2271589.857, 3762026.2, 0.0),\n",
       " ('Oregon', 'West', 0.0, 3372283.593, 32717791.48, 0.0),\n",
       " ('Pennsylvania', 'Mid Atlantic', 0.0, 921136.644, 2820836.024, 76727686.0),\n",
       " ('Rhode Island', 'New England', 0.0, 0.0, 6134.866, 0.0),\n",
       " ('South Carolina', 'Southeast', 0.0, 0.0, 2102246.633, 52149734.0),\n",
       " ('South Dakota', 'Midwest', 0.0, 392307.775, 4319205.046, 0.0),\n",
       " ('Tennessee', 'Southeast', 0.0, 51747.0, 9482290.03, 26962001.0),\n",
       " ('Texas', 'Southeast', 0.0, 19367238.86, 1501345.366, 41497617.0),\n",
       " ('Utah', 'West', 0.0, 64496.987, 696991.166, 0.0),\n",
       " ('Vermont', 'New England', 0.0, 11589.0, 1663592.668, 5360608.0),\n",
       " ('Virginia', 'Mid Atlantic', 0.0, 0.0, 1414565.2, 28212252.0),\n",
       " ('Washington', 'West', 0.0, 3538935.954, 73932815.1, 6634014.0),\n",
       " ('West Virginia', 'Mid Atlantic', 0.0, 742439.0, 1576275.162, 0.0),\n",
       " ('Wisconsin', 'Midwest', 0.0, 1059126.19, 1605406.698, 12683151.0),\n",
       " ('Wyoming', 'West', 0.0, 2213819.552, 853608.538, 0.0)]"
      ]
     },
     "execution_count": 101,
     "metadata": {},
     "output_type": "execute_result"
    }
   ],
   "source": [
    "%sql SELECT * FROM energy;"
   ]
  },
  {
   "cell_type": "markdown",
   "metadata": {},
   "source": [
    "### Part (a): Regional Champions [10 points]\n",
    "\n",
    "Using a _single SQL query_, find all of the regions in the United States with a state in it that is the leading producer of one of the four types of energy (solar, wind, hydro, and nuclear), and return the counts of how many state winners they had in descending order. **Do not include any regions with no state winners.**\n",
    "\n",
    "Further requirements:\n",
    "* Use `GROUP BY`\n",
    "* Write the shortest possible SQL query to accomplish this\n",
    "* Return relation `(region, num_state_winners)`\n",
    "\n",
    "Write your query here:"
   ]
  },
  {
   "cell_type": "code",
   "execution_count": 263,
   "metadata": {},
   "outputs": [
    {
     "name": "stdout",
     "output_type": "stream",
     "text": [
      " * sqlite:///assignment2.db\n",
      "Done.\n"
     ]
    },
    {
     "data": {
      "text/html": [
       "<table>\n",
       "    <tr>\n",
       "        <th>region</th>\n",
       "        <th>num_state_winners</th>\n",
       "    </tr>\n",
       "    <tr>\n",
       "        <td>West</td>\n",
       "        <td>2</td>\n",
       "    </tr>\n",
       "    <tr>\n",
       "        <td>Midwest</td>\n",
       "        <td>1</td>\n",
       "    </tr>\n",
       "    <tr>\n",
       "        <td>Southeast</td>\n",
       "        <td>1</td>\n",
       "    </tr>\n",
       "</table>"
      ],
      "text/plain": [
       "[('West', 2), ('Midwest', 1), ('Southeast', 1)]"
      ]
     },
     "execution_count": 263,
     "metadata": {},
     "output_type": "execute_result"
    }
   ],
   "source": [
    "%%sql\n",
    "select region,count(val) as num_state_winners\n",
    "from(\n",
    "select region, MAX(solar) as val\n",
    "from energy\n",
    "union\n",
    "select region, MAX(wind)\n",
    "from energy\n",
    "union\n",
    "select region, MAX(hydro) \n",
    "from energy\n",
    "union\n",
    "select region, MAX(nuclear)\n",
    "from energy\n",
    ")\n",
    "group by region\n",
    "order by num_state_winners DESC;"
   ]
  },
  {
   "cell_type": "code",
   "execution_count": 11,
   "metadata": {},
   "outputs": [
    {
     "name": "stdout",
     "output_type": "stream",
     "text": [
      "Done.\n"
     ]
    },
    {
     "data": {
      "text/html": [
       "<table>\n",
       "    <tr>\n",
       "        <th>region</th>\n",
       "        <th>num_state_winners</th>\n",
       "    </tr>\n",
       "    <tr>\n",
       "        <td>West</td>\n",
       "        <td>2</td>\n",
       "    </tr>\n",
       "    <tr>\n",
       "        <td>Midwest</td>\n",
       "        <td>1</td>\n",
       "    </tr>\n",
       "    <tr>\n",
       "        <td>Southeast</td>\n",
       "        <td>1</td>\n",
       "    </tr>\n",
       "</table>"
      ],
      "text/plain": [
       "[(u'West', 2), (u'Midwest', 1), (u'Southeast', 1)]"
      ]
     },
     "execution_count": 11,
     "metadata": {},
     "output_type": "execute_result"
    }
   ],
   "source": [
    "\"\"\"\n",
    "Expected output below- don't re-evaluate this cell!\n",
    "\n",
    "NOTE: A valid answer must work for ALL inputs of the given type,\n",
    "not just this example.  I.e. do not hardcode around this answer / etc!\n",
    "\"\"\""
   ]
  },
  {
   "cell_type": "markdown",
   "metadata": {},
   "source": [
    "### Part (b): Pareto Frontiers [10 points]\n",
    "\n",
    "Solar power and wind power [tend to be complementary](https://en.wikipedia.org/wiki/Wind_power#Variability), since it tends to be less windy when there are few clouds and the sun can best reach solar panels.\n",
    "\n",
    "Our goal in this part is to identify states that strike the best balance between solar and wind energy production. Here we define a state as \"best\" if it exists on the [Pareto frontier](https://en.wikipedia.org/wiki/Pareto_efficiency#Formal_representation) of solar and wind energy production. In other words, a state is Pareto optimal if no other state produces **both more solar and more wind energy**, and the Pareto frontier is the set of states that are Pareto optimal.\n",
    "\n",
    "Write a query that returns the entire Pareto frontier. Results should be triples of the form `(state, solar, wind)`, where `state` is the name of the state in the frotier, and `solar` and `wind` are its solar and wind energy production in MWh. Order the results in descending order by sum total of solar and wind energy production in MWh."
   ]
  },
  {
   "cell_type": "markdown",
   "metadata": {},
   "source": [
    "Write your query here:"
   ]
  },
  {
   "cell_type": "code",
   "execution_count": 264,
   "metadata": {},
   "outputs": [
    {
     "name": "stdout",
     "output_type": "stream",
     "text": [
      " * sqlite:///assignment2.db\n",
      "Done.\n"
     ]
    },
    {
     "data": {
      "text/html": [
       "<table>\n",
       "    <tr>\n",
       "        <th>state</th>\n",
       "        <th>solar</th>\n",
       "        <th>wind</th>\n",
       "    </tr>\n",
       "    <tr>\n",
       "        <td>Texas</td>\n",
       "        <td>0.0</td>\n",
       "        <td>19367238.86</td>\n",
       "    </tr>\n",
       "    <tr>\n",
       "        <td>California</td>\n",
       "        <td>611763.387</td>\n",
       "        <td>5764637.309</td>\n",
       "    </tr>\n",
       "</table>"
      ],
      "text/plain": [
       "[('Texas', 0.0, 19367238.86), ('California', 611763.387, 5764637.309)]"
      ]
     },
     "execution_count": 264,
     "metadata": {},
     "output_type": "execute_result"
    }
   ],
   "source": [
    "%%sql\n",
    "select distinct state, solar, wind\n",
    "from(\n",
    "select state,max(solar) as solar,wind\n",
    "from energy\n",
    "union\n",
    "select state, solar,max(wind) as wind\n",
    "from energy\n",
    ")\n",
    "order by solar+wind DESC;\n",
    "\n"
   ]
  },
  {
   "cell_type": "code",
   "execution_count": 3,
   "metadata": {},
   "outputs": [
    {
     "name": "stdout",
     "output_type": "stream",
     "text": [
      "Done.\n"
     ]
    },
    {
     "data": {
      "text/html": [
       "<table>\n",
       "    <tr>\n",
       "        <th>state</th>\n",
       "        <th>solar</th>\n",
       "        <th>wind</th>\n",
       "    </tr>\n",
       "    <tr>\n",
       "        <td>Texas</td>\n",
       "        <td>0.0</td>\n",
       "        <td>19367238.86</td>\n",
       "    </tr>\n",
       "    <tr>\n",
       "        <td>California</td>\n",
       "        <td>611763.387</td>\n",
       "        <td>5764637.309</td>\n",
       "    </tr>\n",
       "</table>"
      ],
      "text/plain": [
       "[(u'Texas', 0.0, 19367238.86), (u'California', 611763.387, 5764637.309)]"
      ]
     },
     "execution_count": 3,
     "metadata": {},
     "output_type": "execute_result"
    }
   ],
   "source": [
    "\"\"\"\n",
    "Expected output below- don't re-evaluate this cell!\n",
    "\n",
    "NOTE: A valid answer must work for ALL inputs of the given type,\n",
    "not just this example.  I.e. do not hardcode around this answer / etc!\n",
    "\"\"\""
   ]
  },
  {
   "cell_type": "markdown",
   "metadata": {},
   "source": [
    "Problem 3: Classification\n",
    "--------------------------------------------------\n",
    "\n",
    "SQL is a very [expressive language](http://wiki.postgresql.org/wiki/Mandelbrot_set) (some SQL extensions are known to be [Turing complete](http://stackoverflow.com/questions/900055/is-sql-or-even-tsql-turing-complete/7580013#7580013)). Here, we go through the steps of using it for a simple machine learning task: _binary classification_.\n",
    "\n",
    "We will use a subset of the [Iris](https://archive.ics.uci.edu/ml/datasets/Iris) dataset. The reduced dataset included here as table IRIS, is comprised of $100$ samples with features SepalLength, SepalWidth, PetalLength, PetalWidth and labels 0 (identifying the species Iris-setosa) and 1 (the species Iris-versicolor). Samples of the third class (Iris-virginica) present in the original dataset have been dropped for this exercise."
   ]
  },
  {
   "cell_type": "code",
   "execution_count": 15,
   "metadata": {},
   "outputs": [
    {
     "name": "stdout",
     "output_type": "stream",
     "text": [
      "Done.\n"
     ]
    },
    {
     "data": {
      "text/html": [
       "<table>\n",
       "    <tr>\n",
       "        <th>i</th>\n",
       "        <th>SepalLength</th>\n",
       "        <th>SepalWidth</th>\n",
       "        <th>PetalLength</th>\n",
       "        <th>PetalWidth</th>\n",
       "        <th>Label</th>\n",
       "    </tr>\n",
       "    <tr>\n",
       "        <td>0</td>\n",
       "        <td>5.1</td>\n",
       "        <td>3.5</td>\n",
       "        <td>1.4</td>\n",
       "        <td>0.2</td>\n",
       "        <td>0</td>\n",
       "    </tr>\n",
       "    <tr>\n",
       "        <td>1</td>\n",
       "        <td>4.9</td>\n",
       "        <td>3.0</td>\n",
       "        <td>1.4</td>\n",
       "        <td>0.2</td>\n",
       "        <td>0</td>\n",
       "    </tr>\n",
       "    <tr>\n",
       "        <td>2</td>\n",
       "        <td>4.7</td>\n",
       "        <td>3.2</td>\n",
       "        <td>1.3</td>\n",
       "        <td>0.2</td>\n",
       "        <td>0</td>\n",
       "    </tr>\n",
       "    <tr>\n",
       "        <td>3</td>\n",
       "        <td>4.6</td>\n",
       "        <td>3.1</td>\n",
       "        <td>1.5</td>\n",
       "        <td>0.2</td>\n",
       "        <td>0</td>\n",
       "    </tr>\n",
       "    <tr>\n",
       "        <td>4</td>\n",
       "        <td>5.0</td>\n",
       "        <td>3.6</td>\n",
       "        <td>1.4</td>\n",
       "        <td>0.2</td>\n",
       "        <td>0</td>\n",
       "    </tr>\n",
       "</table>"
      ],
      "text/plain": [
       "[(0, 5.1, 3.5, 1.4, 0.2, 0),\n",
       " (1, 4.9, 3.0, 1.4, 0.2, 0),\n",
       " (2, 4.7, 3.2, 1.3, 0.2, 0),\n",
       " (3, 4.6, 3.1, 1.5, 0.2, 0),\n",
       " (4, 5.0, 3.6, 1.4, 0.2, 0)]"
      ]
     },
     "execution_count": 15,
     "metadata": {},
     "output_type": "execute_result"
    }
   ],
   "source": [
    "%sql SELECT * FROM IRIS LIMIT 5;"
   ]
  },
  {
   "cell_type": "markdown",
   "metadata": {},
   "source": [
    "**Model**\n",
    "\n",
    "We will use a simple _linear model_ to predict the label (species) given the four features included in the dataset.\n",
    "An unlabeled sample $x_i \\in \\mathbb{R}^4$ is a vector the four given feature values. For example, the first sample in our dataset is $x_0=[5.1, 3.5, 1.4, 0.2]^\\top$.\n",
    "This model, known as the [Perceptron](https://en.wikipedia.org/wiki/Perceptron), is also represented as a four-dimensional vector $w \\in \\mathbb{R}^4$. Given sample $x_i$ and model $w$ the perceptron makes the following prediction $\\hat{y}_i$ for the true label, $y_i$ of sample $x_i$:\n",
    "$$\n",
    "    \\hat{y}_i={\\begin{cases}1&{\\text{if }} x_i^\\top w >0\\\\0&{\\text{otherwise}}\\end{cases}}\n",
    "$$\n",
    "\n",
    "A pre-trained model, $w$, is included in table MODEL."
   ]
  },
  {
   "cell_type": "code",
   "execution_count": 16,
   "metadata": {},
   "outputs": [
    {
     "name": "stdout",
     "output_type": "stream",
     "text": [
      "Done.\n"
     ]
    },
    {
     "data": {
      "text/html": [
       "<table>\n",
       "    <tr>\n",
       "        <th>j</th>\n",
       "        <th>val</th>\n",
       "    </tr>\n",
       "    <tr>\n",
       "        <td>0</td>\n",
       "        <td>0.35260621</td>\n",
       "    </tr>\n",
       "    <tr>\n",
       "        <td>1</td>\n",
       "        <td>-0.90142873</td>\n",
       "    </tr>\n",
       "    <tr>\n",
       "        <td>2</td>\n",
       "        <td>0.59729474</td>\n",
       "    </tr>\n",
       "    <tr>\n",
       "        <td>3</td>\n",
       "        <td>1.30194557</td>\n",
       "    </tr>\n",
       "</table>"
      ],
      "text/plain": [
       "[(0, 0.35260621), (1, -0.90142873), (2, 0.59729474), (3, 1.30194557)]"
      ]
     },
     "execution_count": 16,
     "metadata": {},
     "output_type": "execute_result"
    }
   ],
   "source": [
    "%sql SELECT * FROM MODEL;"
   ]
  },
  {
   "cell_type": "markdown",
   "metadata": {},
   "source": [
    "### Part (a): Matrix-vector multiplication [15 points]\n",
    "\n",
    "If we consider the _feature matrix_, $X$, whose $i$-th row is $x_i^\\top$, the prediction rule for all samples becomes:\n",
    "$$\n",
    "    \\hat{y}= \\mathrm{step}(X w)\n",
    "$$\n",
    "where $Xw$ is a matrix-vector multiplication and\n",
    "$$\n",
    "    \\mathrm{step}(z)_i={\\begin{cases}1&{\\text{if }} z_i >0\\\\0&{\\text{otherwise}}\\end{cases}}.\n",
    "$$\n",
    "The final product, $\\hat{y} \\in \\{0,1\\}^n$ is a vector with the predictions for all samples.\n",
    "\n",
    "The product of a matrix $X$ (having dimensions $n\\times m$) and a vector $w$ (having dimensions $m\\times 1$) is the vector $c$ (of dimension $n\\times 1$) having cell at row $i$ and column $j$ equal to:\n",
    "\n",
    "$$c_{i} = \\sum_{j=1}^m X_{ij}w_{j}$$\n",
    "\n",
    "In other words, to do matrix-vector multiplication, get each cell of the resulting vector $c$, $c_{i}$, by taking the _dot product_ of the $i$th row of $X$ and the $w$.\n",
    "\n",
    "We start by preprocessing IRIS to create the $X$ feature matrix, using the following schema:\n",
    "\n",
    "> * `i INT`:   Row index\n",
    "> * `j INT`:   Column index\n",
    "> * `val INT`: Cell value\n",
    "\n",
    "In order to streamline the work in this section we will make use of views. A view is a virtual table based on the output set of a SQL query. A view can be used just like a normal table; the only difference under the hood is that the DBMS re-evaluates the query used to generate it each time a view is queried by a user (thus the data is always up-to date!)"
   ]
  },
  {
   "cell_type": "code",
   "execution_count": 17,
   "metadata": {},
   "outputs": [
    {
     "name": "stdout",
     "output_type": "stream",
     "text": [
      "Done.\n",
      "Done.\n"
     ]
    },
    {
     "data": {
      "text/plain": [
       "[]"
      ]
     },
     "execution_count": 17,
     "metadata": {},
     "output_type": "execute_result"
    }
   ],
   "source": [
    "%%sql\n",
    "DROP VIEW IF EXISTS X;\n",
    "CREATE VIEW X AS\n",
    "SELECT i, 0 as j, SepalLength as val\n",
    "FROM IRIS\n",
    "UNION\n",
    "SELECT i, 1 as j, SepalWidth as val\n",
    "FROM IRIS\n",
    "UNION\n",
    "SELECT i, 2 as j, PetalLength as val\n",
    "FROM IRIS\n",
    "UNION\n",
    "SELECT i, 3 as j, PetalWidth as val\n",
    "FROM IRIS;"
   ]
  },
  {
   "cell_type": "code",
   "execution_count": 18,
   "metadata": {},
   "outputs": [
    {
     "name": "stdout",
     "output_type": "stream",
     "text": [
      "Done.\n"
     ]
    },
    {
     "data": {
      "text/html": [
       "<table>\n",
       "    <tr>\n",
       "        <th>i</th>\n",
       "        <th>j</th>\n",
       "        <th>val</th>\n",
       "    </tr>\n",
       "    <tr>\n",
       "        <td>0</td>\n",
       "        <td>0</td>\n",
       "        <td>5.1</td>\n",
       "    </tr>\n",
       "    <tr>\n",
       "        <td>0</td>\n",
       "        <td>1</td>\n",
       "        <td>3.5</td>\n",
       "    </tr>\n",
       "    <tr>\n",
       "        <td>0</td>\n",
       "        <td>2</td>\n",
       "        <td>1.4</td>\n",
       "    </tr>\n",
       "    <tr>\n",
       "        <td>0</td>\n",
       "        <td>3</td>\n",
       "        <td>0.2</td>\n",
       "    </tr>\n",
       "    <tr>\n",
       "        <td>1</td>\n",
       "        <td>0</td>\n",
       "        <td>4.9</td>\n",
       "    </tr>\n",
       "</table>"
      ],
      "text/plain": [
       "[(0, 0, 5.1), (0, 1, 3.5), (0, 2, 1.4), (0, 3, 0.2), (1, 0, 4.9)]"
      ]
     },
     "execution_count": 18,
     "metadata": {},
     "output_type": "execute_result"
    }
   ],
   "source": [
    "%sql SELECT * FROM X LIMIT 5;"
   ]
  },
  {
   "cell_type": "markdown",
   "metadata": {},
   "source": [
    "Write a single SQL statement that implements the matrix-vector multiply $Xw$ between the provided view $X$ and model $w$ from table MODEL. Return the first 5 tuples as your answer.\n",
    "\n",
    "Write your query here:"
   ]
  },
  {
   "cell_type": "code",
   "execution_count": 265,
   "metadata": {},
   "outputs": [
    {
     "name": "stdout",
     "output_type": "stream",
     "text": [
      " * sqlite:///assignment2.db\n",
      "Done.\n"
     ]
    },
    {
     "data": {
      "text/html": [
       "<table>\n",
       "    <tr>\n",
       "        <th>i</th>\n",
       "        <th>val</th>\n",
       "    </tr>\n",
       "    <tr>\n",
       "        <td>0</td>\n",
       "        <td>-0.26010713400000024</td>\n",
       "    </tr>\n",
       "    <tr>\n",
       "        <td>1</td>\n",
       "        <td>0.12008598900000017</td>\n",
       "    </tr>\n",
       "    <tr>\n",
       "        <td>2</td>\n",
       "        <td>-0.19045047300000034</td>\n",
       "    </tr>\n",
       "    <tr>\n",
       "        <td>3</td>\n",
       "        <td>-0.016109273000000146</td>\n",
       "    </tr>\n",
       "    <tr>\n",
       "        <td>4</td>\n",
       "        <td>-0.38551062799999997</td>\n",
       "    </tr>\n",
       "</table>"
      ],
      "text/plain": [
       "[(0, -0.26010713400000024),\n",
       " (1, 0.12008598900000017),\n",
       " (2, -0.19045047300000034),\n",
       " (3, -0.016109273000000146),\n",
       " (4, -0.38551062799999997)]"
      ]
     },
     "execution_count": 265,
     "metadata": {},
     "output_type": "execute_result"
    }
   ],
   "source": [
    "%%sql \n",
    "\n",
    "select X.i,SUM(X.val*Model.val) as val\n",
    "from X, Model\n",
    "where X.j = Model.j\n",
    "group by X.i\n",
    "LIMIT 5;\n"
   ]
  },
  {
   "cell_type": "code",
   "execution_count": 19,
   "metadata": {},
   "outputs": [
    {
     "name": "stdout",
     "output_type": "stream",
     "text": [
      "Done.\n"
     ]
    },
    {
     "data": {
      "text/html": [
       "<table>\n",
       "    <tr>\n",
       "        <th>i</th>\n",
       "        <th>val</th>\n",
       "    </tr>\n",
       "    <tr>\n",
       "        <td>0</td>\n",
       "        <td>-0.260107134</td>\n",
       "    </tr>\n",
       "    <tr>\n",
       "        <td>1</td>\n",
       "        <td>0.120085989</td>\n",
       "    </tr>\n",
       "    <tr>\n",
       "        <td>2</td>\n",
       "        <td>-0.190450473</td>\n",
       "    </tr>\n",
       "    <tr>\n",
       "        <td>3</td>\n",
       "        <td>-0.016109273</td>\n",
       "    </tr>\n",
       "    <tr>\n",
       "        <td>4</td>\n",
       "        <td>-0.385510628</td>\n",
       "    </tr>\n",
       "</table>"
      ],
      "text/plain": [
       "[(0, -0.26010713400000024),\n",
       " (1, 0.12008598900000017),\n",
       " (2, -0.19045047300000034),\n",
       " (3, -0.016109273000000146),\n",
       " (4, -0.38551062799999997)]"
      ]
     },
     "execution_count": 19,
     "metadata": {},
     "output_type": "execute_result"
    }
   ],
   "source": [
    "\"\"\"\n",
    "Expected output below- don't re-evaluate this cell!\n",
    "\n",
    "NOTE: A valid answer must work for ALL inputs of the given type,\n",
    "not just this example.  I.e. do not hardcode around this answer / etc!\n",
    "\"\"\""
   ]
  },
  {
   "cell_type": "markdown",
   "metadata": {},
   "source": [
    "### Part (b): Predict labels [15 points]\n",
    "\n",
    "Now we can predict the labels using the following rule:\n",
    "$$\n",
    "    \\hat{y}= \\mathrm{step}(X w)\n",
    "$$\n",
    "\n",
    "Create a view named 'PREDICTION' that will produce tuples of sample IDs and label predictions, i.e. $(i,\\hat{y}_i)$.\n",
    "\n",
    "**Not sure you got the previous question right?**\n",
    "The provided view 'ANSWER_P3a' with schema $(i,(Xw)_i)$ has the right answer. You can use it in your solution here for full credit in this question. **Warning**: Using this view in Part (a) is against the rules.\n",
    "\n",
    "Write your query in the following cell:"
   ]
  },
  {
   "cell_type": "code",
   "execution_count": 266,
   "metadata": {},
   "outputs": [
    {
     "name": "stdout",
     "output_type": "stream",
     "text": [
      " * sqlite:///assignment2.db\n",
      "Done.\n"
     ]
    },
    {
     "data": {
      "text/plain": [
       "[]"
      ]
     },
     "execution_count": 266,
     "metadata": {},
     "output_type": "execute_result"
    }
   ],
   "source": [
    "%sql drop view if exists PREDICTION;"
   ]
  },
  {
   "cell_type": "code",
   "execution_count": 267,
   "metadata": {},
   "outputs": [
    {
     "name": "stdout",
     "output_type": "stream",
     "text": [
      " * sqlite:///assignment2.db\n",
      "Done.\n"
     ]
    },
    {
     "data": {
      "text/plain": [
       "[]"
      ]
     },
     "execution_count": 267,
     "metadata": {},
     "output_type": "execute_result"
    }
   ],
   "source": [
    "%%sql\n",
    "CREATE VIEW PREDICTION as\n",
    "select answer_p3a.i, 0 as val\n",
    "from answer_p3a\n",
    "where answer_p3a.val < 0\n",
    "union \n",
    "select answer_p3a.i, 1 as val\n",
    "from answer_p3a\n",
    "where answer_p3a.val > 0;\n"
   ]
  },
  {
   "cell_type": "markdown",
   "metadata": {
    "collapsed": true
   },
   "source": [
    "To help you test, below is the expected output of a query for the first five records in the view:"
   ]
  },
  {
   "cell_type": "code",
   "execution_count": 268,
   "metadata": {},
   "outputs": [
    {
     "name": "stdout",
     "output_type": "stream",
     "text": [
      " * sqlite:///assignment2.db\n",
      "Done.\n"
     ]
    },
    {
     "data": {
      "text/html": [
       "<table>\n",
       "    <tr>\n",
       "        <th>i</th>\n",
       "        <th>val</th>\n",
       "    </tr>\n",
       "    <tr>\n",
       "        <td>0</td>\n",
       "        <td>0</td>\n",
       "    </tr>\n",
       "    <tr>\n",
       "        <td>1</td>\n",
       "        <td>1</td>\n",
       "    </tr>\n",
       "    <tr>\n",
       "        <td>2</td>\n",
       "        <td>0</td>\n",
       "    </tr>\n",
       "    <tr>\n",
       "        <td>3</td>\n",
       "        <td>0</td>\n",
       "    </tr>\n",
       "    <tr>\n",
       "        <td>4</td>\n",
       "        <td>0</td>\n",
       "    </tr>\n",
       "</table>"
      ],
      "text/plain": [
       "[(0, 0), (1, 1), (2, 0), (3, 0), (4, 0)]"
      ]
     },
     "execution_count": 268,
     "metadata": {},
     "output_type": "execute_result"
    }
   ],
   "source": [
    "%sql SELECT * FROM PREDICTION LIMIT 5;"
   ]
  },
  {
   "cell_type": "code",
   "execution_count": 21,
   "metadata": {},
   "outputs": [
    {
     "name": "stdout",
     "output_type": "stream",
     "text": [
      "Done.\n"
     ]
    },
    {
     "data": {
      "text/html": [
       "<table>\n",
       "    <tr>\n",
       "        <th>i</th>\n",
       "        <th>val</th>\n",
       "    </tr>\n",
       "    <tr>\n",
       "        <td>0</td>\n",
       "        <td>0</td>\n",
       "    </tr>\n",
       "    <tr>\n",
       "        <td>1</td>\n",
       "        <td>1</td>\n",
       "    </tr>\n",
       "    <tr>\n",
       "        <td>2</td>\n",
       "        <td>0</td>\n",
       "    </tr>\n",
       "    <tr>\n",
       "        <td>3</td>\n",
       "        <td>0</td>\n",
       "    </tr>\n",
       "    <tr>\n",
       "        <td>4</td>\n",
       "        <td>0</td>\n",
       "    </tr>\n",
       "</table>"
      ],
      "text/plain": [
       "[(0, 0), (1, 1), (2, 0), (3, 0), (4, 0)]"
      ]
     },
     "execution_count": 21,
     "metadata": {},
     "output_type": "execute_result"
    }
   ],
   "source": [
    "\"\"\"\n",
    "Expected output below- don't re-evaluate this cell!\n",
    "\n",
    "NOTE: A valid answer must work for ALL inputs of the given type,\n",
    "not just this example.  I.e. do not hardcode around this answer / etc!\n",
    "\"\"\""
   ]
  },
  {
   "cell_type": "markdown",
   "metadata": {},
   "source": [
    "### Part (c): Evaluate accuracy [20 points]\n",
    "\n",
    "Given the predicted labels $\\hat{y}_i$ and true labels $y_i$ we evaluate the predictive power of our model using _accuracy_: the fraction of labels our model got right.\n",
    "$$\n",
    "    \\mathrm{accuracy} \n",
    "    = \\frac{1}{n}\\sum_{i=1}^n \\mathbb{I}[y_i = \\hat{y}_i]\n",
    "$$\n",
    "\n",
    "Using the 'PREDICTION' view from the previous part should make for a simpler solution.\n",
    "\n",
    "**Not sure you got the previous question right?**\n",
    "The provided view 'ANSWER_P3b' with schema $(i,\\hat{y}_i)$ has the right answer. You can use it in your solution here for full credit in this question. **Warning**: Using this view in Part (b) is against the rules.\n",
    "\n",
    "Write your query here:"
   ]
  },
  {
   "cell_type": "code",
   "execution_count": 269,
   "metadata": {},
   "outputs": [
    {
     "name": "stdout",
     "output_type": "stream",
     "text": [
      " * sqlite:///assignment2.db\n",
      "Done.\n"
     ]
    },
    {
     "data": {
      "text/html": [
       "<table>\n",
       "    <tr>\n",
       "        <th>avg(val)</th>\n",
       "    </tr>\n",
       "    <tr>\n",
       "        <td>0.87</td>\n",
       "    </tr>\n",
       "</table>"
      ],
      "text/plain": [
       "[(0.87,)]"
      ]
     },
     "execution_count": 269,
     "metadata": {},
     "output_type": "execute_result"
    }
   ],
   "source": [
    "%%sql\n",
    "select avg(val)\n",
    "from(\n",
    "    select answer_p3b.i as i, 1 as val\n",
    "    from answer_p3b, iris\n",
    "    where answer_p3b.i = iris.i\n",
    "    and answer_p3b.val = iris.label\n",
    "    union\n",
    "    select answer_p3b.i as i, 0 as val\n",
    "    from answer_p3b, iris\n",
    "    where answer_p3b.i = iris.i\n",
    "    and answer_p3b.val != iris.label\n",
    ");\n",
    "\n",
    " \n",
    "\n"
   ]
  },
  {
   "cell_type": "code",
   "execution_count": 24,
   "metadata": {},
   "outputs": [
    {
     "name": "stdout",
     "output_type": "stream",
     "text": [
      "Done.\n"
     ]
    },
    {
     "data": {
      "text/html": [
       "<table>\n",
       "    <tr>\n",
       "        <th>accuracy</th>\n",
       "    </tr>\n",
       "    <tr>\n",
       "        <td>0.87</td>\n",
       "    </tr>\n",
       "</table>"
      ],
      "text/plain": [
       "[(0.87,)]"
      ]
     },
     "execution_count": 24,
     "metadata": {},
     "output_type": "execute_result"
    }
   ],
   "source": [
    "\"\"\"\n",
    "Expected output below- don't re-evaluate this cell!\n",
    "\n",
    "NOTE: A valid answer must work for ALL inputs of the given type,\n",
    "not just this example.  I.e. do not hardcode around this answer / etc!\n",
    "\"\"\""
   ]
  },
  {
   "cell_type": "markdown",
   "metadata": {},
   "source": [
    "Our pre-trained classifer achieved a classification accuracy of 87%. If you don't think this is good enough, you are correct. This is not an optimally trained model. Try the bonus question to see how this classification performance can be improved!"
   ]
  },
  {
   "cell_type": "markdown",
   "metadata": {},
   "source": [
    "### Bonus Problem 1: Classification, Pt. II\n",
    "\n",
    "A simple procedure from training the model $w$ given labeled data, is as follows.\n",
    "$$\n",
    "    w' = w + 0.0001 \\sum_{i=1}^n (y_i-\\hat{y_i})x_i\n",
    "$$\n",
    "This kind of optimization algorithm is typically applied iteratively, but here we will just run a single step. \n",
    "\n",
    "Run a SQL statement that computes the new model value, $w'$, based on the original model $w$ in MODEL and the samples $x_i$ in IRIS. \n",
    "\n",
    "**Using answers from previous parts.**\n",
    "As before, you should feel free to use the provided views 'ANSWER_P3a' and 'ANSWER_P3b' described in parts (b) and (c) in your solution for full credit in this question. **Warning**: Using these views in Parts (a) and (b) respectively is against the rules.\n",
    "\n",
    "Write your answer here:"
   ]
  },
  {
   "cell_type": "code",
   "execution_count": 270,
   "metadata": {},
   "outputs": [
    {
     "name": "stdout",
     "output_type": "stream",
     "text": [
      " * sqlite:///assignment2.db\n",
      "Done.\n"
     ]
    },
    {
     "data": {
      "text/html": [
       "<table>\n",
       "    <tr>\n",
       "        <th>i</th>\n",
       "        <th>A.val+model.val</th>\n",
       "    </tr>\n",
       "    <tr>\n",
       "        <td>0</td>\n",
       "        <td>0.34618621</td>\n",
       "    </tr>\n",
       "    <tr>\n",
       "        <td>1</td>\n",
       "        <td>-0.90557873</td>\n",
       "    </tr>\n",
       "    <tr>\n",
       "        <td>2</td>\n",
       "        <td>0.5952347400000001</td>\n",
       "    </tr>\n",
       "    <tr>\n",
       "        <td>3</td>\n",
       "        <td>1.30153557</td>\n",
       "    </tr>\n",
       "</table>"
      ],
      "text/plain": [
       "[(0, 0.34618621), (1, -0.90557873), (2, 0.5952347400000001), (3, 1.30153557)]"
      ]
     },
     "execution_count": 270,
     "metadata": {},
     "output_type": "execute_result"
    }
   ],
   "source": [
    "%%sql\n",
    "select A.i, A.val+model.val\n",
    "from(\n",
    "select x.j as i, SUM(x.val*(iris.label-answer_p3b.val))*0.0001 as val\n",
    "from x, iris, answer_p3b\n",
    "where x.i = iris.i\n",
    "and answer_p3b.i = x.i\n",
    "group by x.j\n",
    ") as A, model\n",
    "where A.i = model.j"
   ]
  },
  {
   "cell_type": "code",
   "execution_count": 26,
   "metadata": {},
   "outputs": [
    {
     "name": "stdout",
     "output_type": "stream",
     "text": [
      "Done.\n"
     ]
    },
    {
     "data": {
      "text/html": [
       "<table>\n",
       "    <tr>\n",
       "        <th>j</th>\n",
       "        <th>val</th>\n",
       "    </tr>\n",
       "    <tr>\n",
       "        <td>0</td>\n",
       "        <td>0.34618621</td>\n",
       "    </tr>\n",
       "    <tr>\n",
       "        <td>1</td>\n",
       "        <td>-0.90557873</td>\n",
       "    </tr>\n",
       "    <tr>\n",
       "        <td>2</td>\n",
       "        <td>0.59523474</td>\n",
       "    </tr>\n",
       "    <tr>\n",
       "        <td>3</td>\n",
       "        <td>1.30153557</td>\n",
       "    </tr>\n",
       "</table>"
      ],
      "text/plain": [
       "[(0, 0.34618621), (1, -0.90557873), (2, 0.5952347400000001), (3, 1.30153557)]"
      ]
     },
     "execution_count": 26,
     "metadata": {},
     "output_type": "execute_result"
    }
   ],
   "source": [
    "\"\"\"\n",
    "Expected output below- don't re-evaluate this cell!\n",
    "\n",
    "NOTE: A valid answer must work for ALL inputs of the given type,\n",
    "not just this example.  I.e. do not hardcode around this answer / etc!\n",
    "\"\"\""
   ]
  },
  {
   "cell_type": "markdown",
   "metadata": {},
   "source": [
    "We have a new model now. If you perform the evaluation process for this new model, you should find that accuracy has increased to 90%. Not bad for a single step of the algorithm! Further iterations will improve this performance more."
   ]
  }
 ],
 "metadata": {
  "kernelspec": {
   "display_name": "Python 3",
   "language": "python",
   "name": "python3"
  },
  "language_info": {
   "codemirror_mode": {
    "name": "ipython",
    "version": 3
   },
   "file_extension": ".py",
   "mimetype": "text/x-python",
   "name": "python",
   "nbconvert_exporter": "python",
   "pygments_lexer": "ipython3",
   "version": "3.7.1"
  }
 },
 "nbformat": 4,
 "nbformat_minor": 1
}
